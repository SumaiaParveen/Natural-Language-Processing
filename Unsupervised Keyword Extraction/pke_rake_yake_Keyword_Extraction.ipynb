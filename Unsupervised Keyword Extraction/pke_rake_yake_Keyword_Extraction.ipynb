{
  "nbformat": 4,
  "nbformat_minor": 0,
  "metadata": {
    "colab": {
      "name": "pke_rake_yake_Keyword Extraction.ipynb",
      "provenance": []
    },
    "kernelspec": {
      "name": "python3",
      "display_name": "Python 3"
    },
    "language_info": {
      "name": "python"
    }
  },
  "cells": [
    {
      "cell_type": "markdown",
      "metadata": {
        "id": "7psm916B57zN"
      },
      "source": [
        "## Unsupervised Keyword Extraction: PKE, RAKE, YAKE\n",
        "\n",
        "Author: Sumaia Parveen Shupti\n",
        "\n",
        "Created on: 07/14/2021\n",
        "\n",
        "Updated on: 08/02/2021"
      ]
    },
    {
      "cell_type": "code",
      "metadata": {
        "id": "hDv3783Q6BC3"
      },
      "source": [
        "#pip install keybert\n",
        "#!pip install flair\n",
        "#!pip install wikipedia\n",
        "#!pip install git+https://github.com/boudinfl/pke.git\n",
        "#!pip install rake-nltk==1.0.4\n",
        "#!pip install git+https://github.com/LIAAD/yake@f35bbc0e2f47e733233a182f69ea3aed4a82f9a5"
      ],
      "execution_count": null,
      "outputs": []
    },
    {
      "cell_type": "code",
      "metadata": {
        "colab": {
          "base_uri": "https://localhost:8080/",
          "height": 108
        },
        "id": "nIsmwAtKhzsk",
        "outputId": "910bf160-bd44-4927-fdd5-62065c01216c"
      },
      "source": [
        "import wikipedia\n",
        "import pandas as pd\n",
        " \n",
        "# Get wiki content.\n",
        "wikisearch = wikipedia.page(\"UFO\")\n",
        "wikicontent = wikisearch.content\n",
        "wikicontent"
      ],
      "execution_count": null,
      "outputs": [
        {
          "output_type": "execute_result",
          "data": {
            "application/vnd.google.colaboratory.intrinsic+json": {
              "type": "string"
            },
            "text/plain": [
              "'An unidentified flying object (UFO) is any perceived aerial phenomenon that cannot immediately be identified or explained. Most UFOs are identified or investigated as conventional objects or phenomena. The phrase was coined as an acronym by Project Blue Book project head Edward J. Ruppelt, but today UFO is widely used as a stand-in for extraterrestrial spacecraft-aircraft claimed to be observed by various people. Many UFOs are described as being flying saucers, as is shown in the image to the right.\\nStudies and investigations into UFO reports have been conducted by various governments worldwide, along with private individuals and organizations. In the United States, studies began in the late 1940s and have included Project Grudge, Project Sign and Project Blue Book. The latter was ended in 1969–1970 after the Condon Committee officially concluded that the subject failed to merit further study.\\nUnidentified lights and flying objects have been reported in the skies for much of human history. Skeptics including various scientists, and organizations such as the Committee for Skeptical Inquiry, state that the entire topic can be explained as conventional objects or phenomena, while self-styled \"Ufologists\" disagree and instead argue in favor of various extravagant hypotheses. The topic of UFOs has been, and is currently, popular in worldwide culture in fictional movies, television and other media. UFO reports are also the subject of continuing fascination in sensationalist media.\\n\\n\\n== History ==\\n\\n\\n=== Early history before the 20th century ===\\n\\nObservations of aerial phenomena have been described throughout history and continue to be the subject of interest by skywatchers. Some of these phenomena include comets, bright meteors, one or more of the five planets that can be readily seen with the naked eye, planetary conjunctions, or atmospheric optical phenomena such as parhelia and lenticular clouds. An example is Halley\\'s Comet, which was recorded first by Chinese astronomers in 240 BC and possibly as early as 467 BC. Such accounts in history often were treated as supernatural portents, angels, or other religious omens. Some current-day UFO researchers have noticed similarities between some religious symbols in medieval paintings and UFO reports though the canonical and symbolic character of such images is documented by art historians placing more conventional religious interpretations on such images.\\nJulius Obsequens was a Roman writer who is believed to have lived in the middle of the fourth century AD. The only work associated with his name is the Liber de prodigiis (Book of Prodigies), completely extracted from an epitome, or abridgment, written by Livy; De prodigiis was constructed as an account of the wonders and portents that occurred in Rome between 249 and 12 BCE. An aspect of Obsequens\\' work that has inspired much interest in some circles is that references are made to things moving through the sky. These have been interpreted as reports of UFOs, but may just as well describe meteors, and, since Obsequens, probably, writes in the 4th century, that is, some 400 years after the events he describes, they hardly qualify as eye-witness accounts.\\nOn April 14, 1561, residents of Nuremberg described the appearance of a large black triangular object. According to witnesses, there were also hundreds of spheres, cylinders and other odd-shaped objects that moved erratically overhead.\\nThe 1566 celestial phenomenon over Basel was a series of mass sightings of celestial phenomena above Basel, Switzerland. Celestial phenomena were said to have \"fought\" together in the form of numerous red and black balls in the sky. In the 15th and 16th centuries, many leaflets wrote of \"miracles\" and \"sky spectacles\".\\nOn January 25, 1878, the Denison Daily News printed an article in which John Martin, a local farmer, had reported seeing a large, dark, circular object resembling a balloon flying \"at wonderful speed\". Martin, according to the newspaper account, said it appeared to be about the size of a saucer from his perspective, one of the first uses of the word \"saucer\" in association with a UFO.\\nIn April 1897, thousands of people reported seeing \"airships\" in various parts of the United States. Many signed affidavits. Scores of people even reported talking to the pilots. Thomas Edison was asked his opinion, and said, \"You can take it from me that it is a pure fake.\"\\n\\n\\n=== 20th century and after ===\\n\\nThe three earliest known pilot UFO sightings, of 1,305 similar sightings catalogued by NARCAP, took place in 1916 and 1926. On January 31, 1916, a UK pilot near Rochford reported a row of lights, resembling lighted windows on a railway carriage, that rose and disappeared. In January 1926 a pilot reported six \"flying manhole covers\" between Wichita, Kansas, and Colorado Springs, Colorado. In late September 1926 an airmail pilot over Nevada said he had been forced to land by a huge, wingless, cylindrical object.\\nOn August 5, 1926, while traveling in the Humboldt Mountains of Tibet\\'s Kokonor region, Russian explorer Nicholas Roerich reported that members of his expedition saw \"something big and shiny reflecting the sun, like a huge oval moving at great speed. Crossing our camp the thing changed in its direction from south to southwest. And we saw how it disappeared in the intense blue sky. We even had time to take our field glasses and saw quite distinctly an oval form with shiny surface, one side of which was brilliant from the sun.\" Another description by Roerich was of a \"shiny body flying from north to south. Field glasses are at hand. It is a huge body. One side glows in the sun. It is oval in shape. Then it somehow turns in another direction and disappears in the southwest.\"\\nIn the Pacific and European theatres during World War II, \"foo fighters\" (metallic spheres, balls of light and other shapes that followed aircraft) were reported and on occasion photographed by Allied and Axis pilots. Some proposed Allied explanations at the time included St. Elmo\\'s fire, the planet Venus, hallucinations from oxygen deprivation, or German secret weapons.\\nIn 1946, more than 2,000 reports were collected, primarily by the Swedish military, of unidentified aerial objects over the Scandinavian nations, along with isolated reports from France, Portugal, Italy and Greece. The objects were referred to as \"Russian hail\" (and later as \"ghost rockets\") because it was thought the mysterious objects were possibly Russian tests of captured German V1 or V2 rockets. Although most were thought to be such natural phenomena as meteors, more than 200 were tracked on radar by the Swedish military and deemed to be \"real physical objects\". In a 1948 top secret document, Swedish authorities advised the USAF Europe that some of their investigators believed these craft to be extraterrestrial in origin.\\n\\n\\n==== Notable cases, incidents ====\\n\\n\\n===== Britain =====\\nAccording to records released on August 5, 2010, British wartime prime minister Winston Churchill banned the reporting for 50 years of an alleged UFO incident because of fears it could create mass panic. Reports given to Churchill asserted that the incident involved a Royal Air Force (RAF) reconnaissance aircraft returning from a mission in France or Germany toward the end of World War II. It was over or near the English coastline when it was allegedly intercepted by a strange metallic object which matched the aircraft\\'s course and speed for a time before accelerating away and disappearing. The aircraft\\'s crew were reported to have photographed the object, which they said had \"hovered noiselessly\" near the aircraft, before moving off. According to the documents, details of the coverup emerged when a man wrote to the government in 1999 seeking to find out more about the incident and described how his grandfather, who had served with the RAF in the war, was present when Churchill and U.S. General Dwight D. Eisenhower discussed how to deal with the UFO encounter. The files come from more than 5,000 pages of UFO reports, letters and drawings from members of the public, as well as questions raised in Parliament. They are available to download from The National Archives website.\\nIn the April 1957 West Freugh incident in Scotland, named after the principal military base involved, two unidentified objects flying high over the UK were tracked by radar operators. The objects were reported to operate at speeds and perform maneuvers beyond the capability of any known craft. Also significant is their alleged size, which—based on the radar returns—was closer to that of a ship than an aircraft.\\nIn the Rendlesham Forest incident of December 1980, U.S. military personnel witnessed UFOs near the air base at Woodbridge, Suffolk, over a period of three nights. On one night the deputy base commander, Colonel Charles I. Halt, and other personnel followed one or more UFOs that were moving in and above the forest for several hours. Col. Halt made an audio recording while this was happening and subsequently wrote an official memorandum summarizing the incident. After retirement from the military, he said he had deliberately downplayed the event (officially termed \\'Unexplained Lights\\') to avoid damaging his career. Other base personnel are said to have observed one of the UFOs, which had landed in the forest, and even gone up to and touched it.\\n\\n\\n===== France =====\\nThe most notable cases of UFO sightings in France include the Valensole UFO incident in 1965 and the Trans-en-Provence Case in 1981.\\n\\n\\n===== Italy =====\\nA UFO sighting in Florence, October 28, 1954, followed by a fall of angel hair.\\nIn 1973, an Alitalia airplane left Rome for Naples sighted a mysterious round object. Two Italian Air Force planes from Ciampino confirmed the sighting. In the same year there was another sighting at Caselle airport near Turin.\\nIn 1978, two young hikers, while walking on Monte Musinè near Turin, saw a bright light; one of them temporarily disappeared and, after a while, was found in a state of shock and with a noticeable scald on one leg. After regaining consciousness, he reported having seen an elongated vehicle and that some strangely shaped beings descended from it. Both the young hikers suffered from conjunctivitis for some time.\\nA close encounter reported in September 1978 in Torrita di Siena in the Province of Siena. A young motorist saw in front of him a bright object, two beings of small stature who wore suits and helmets, the two approached the car, and after watching it carefully went back and rose again to the UFO. A boy who lived with his family in a country house not far from there said he had seen at the same time \"a kind of small reddish sun\".\\nYet in 1978, there has been also the story of Pier Fortunato Zanfretta, the best known and most controversial case of an Italian alleged alien abduction. Zanfretta said (also with truth serum injected) to have been kidnapped by reptilian-like creatures on the night of 6 December and 7 December while he was performing his job at Marzano, in the municipality of Torriglia in the Province of Genoa; 52 testimonies of the case from other people were collected.\\nIn 2021, a woman from Capolona, a small town in the province of Arezzo, claims to have seen in the sky a \"strange light object\", on the night of January 25. The moment was recorded in video with her phone. The Italian Alien Research Association (Aria) is investigating the case.\\n\\n\\n===== United States =====\\nOn February 28, 1904, there was a sighting by three crew members on the USS Supply 300 miles (483 km) west of San Francisco, reported by Lieutenant Frank Schofield, later to become Commander-in-Chief of the Pacific Battle Fleet. Schofield wrote of three bright red meteors—one egg shaped and the other two round—that approached beneath the cloud layer, then \"soared\" above the clouds, departing after two to three minutes. He said the largest had an apparent size of about six Suns.\\nThe Roswell UFO incident (1947) involved New Mexico civilians, local law enforcement officers, and the U.S. military, the latter of whom allegedly collected physical evidence from the UFO crash site.\\nThe Mantell UFO incident on January 7, 1948\\nThe Betty and Barney Hill abduction (1961) was the first reported abduction incident.\\nIn the Kecksburg UFO incident, Pennsylvania (1965), residents reported seeing a bell-shaped object crash in the area. Police officers, and possibly military personnel, were sent to investigate.\\nThe Travis Walton abduction case (1975): The movie Fire in the Sky (1993) was based on this event, but greatly embellished the original account.\\nThe \"Phoenix Lights\" on March 13, 1997\\n2006 O\\'Hare International Airport UFO sighting\\nThe 2004 USS Nimitz UFO incident and 2014 USS Theodore Roosevelt UFO incidents\\n\\t\\t\\n\\t\\t\\n\\n\\n==== Astronomer reports ====\\nThe USAF\\'s Project Blue Book files indicate that approximately 1% of all unknown reports came from amateur and professional astronomers or other telescope users (such as missile trackers or surveyors). In 1952, astronomer J. Allen Hynek, then a consultant to Blue Book, conducted a small survey of 45 fellow professional astronomers. Five reported UFO sightings (about 11%). In the 1970s, astrophysicist Peter A. Sturrock conducted two large surveys of the AIAA and American Astronomical Society (AAS). About 5% of the members polled indicated that they had had UFO sightings.\\nAstronomer Clyde Tombaugh, who admitted to six UFO sightings, including three green fireballs, supported the Extraterrestrial hypothesis for UFOs and stated he thought scientists who dismissed it without study were being \"unscientific\". Another astronomer was Lincoln LaPaz, who had headed the Air Force\\'s investigation into the green fireballs and other UFO phenomena in New Mexico. LaPaz reported two personal sightings, one of a green fireball, the other of an anomalous disc-like object. (Both Tombaugh and LaPaz were part of Hynek\\'s 1952 survey.) Hynek himself took two photos through the window of a commercial airliner of a disc-like object that seemed to pace his aircraft.Retired professor of astronomy Andrew Fraknoi criticized the hypothesis that UFOs are extraterrestrial spacecraft, and responded to the \"onslaught of credulous coverage\" in books, films and entertainment by teaching his students to apply critical thinking to such claims, advising them that \"being a good scientist is not unlike being a good detective\". According to Fraknoi, UFO reports \"might at first seem mysterious\", but \"the more you investigate, the more likely you are to find that there is LESS to these stories than meets the eye\".In 1980, a survey of 1800 members of various amateur astronomer associations by Gert Helb and Hynek for CUFOS found that 24% responded \"yes\" to the question \"Have you ever observed an object which resisted your most exhaustive efforts at identification?\"\\n\\n\\n==== Famous hoaxes ====\\n\\nThe Maury Island incident\\nGeorge Adamski, over the space of two decades, made various claims about his meetings with telepathic aliens from nearby planets. He claimed photographs of the far side of the Moon taken by the Soviet lunar probe Luna 3 in 1959 were fake, and that there were cities, trees and snow-capped mountains on the far side of the Moon. Among copycats was a shadowy British figure named Cedric Allingham.\\nEd Walters, a building contractor, in 1987 allegedly perpetrated a hoax in Gulf Breeze, Florida. Walters claimed at first having seen a small UFO flying near his home and took some photographs of the craft. Walters reported and documented a series of UFO sightings over a period of three weeks and took several photographs. These sightings became famous, and are collectively referred to as the Gulf Breeze UFO incident. Three years later, in 1990, after the Walters family had moved, the new residents discovered a model of a UFO poorly hidden in the attic that bore an undeniable resemblance to the craft in Walters\\' photographs. Most investigators, like the forensic photo expert William G. Hyzer, now consider the sightings to be a hoax.\\n\\n\\n== Terminology ==\\nThe term \"UFO\" (or \"UFOB\") was coined in 1953 by the United States Air Force (USAF) to serve as a catch-all for all such reports. In its initial definition, the USAF stated that a \"UFOB\" was \"any airborne object which by performance, aerodynamic characteristics, or unusual features, does not conform to any presently known aircraft or missile type, or which cannot be positively identified as a familiar object\". Accordingly, the term was initially restricted to that fraction of cases which remained unidentified after investigation, as the USAF was interested in potential national security reasons and \"technical aspects\" (see Air Force Regulation 200-2).\\nDuring the late 1940s and through the 1950s, UFOs were often referred to popularly as \"flying saucers\" or \"flying discs\". The term UFO became more widespread during the 1950s, at first in technical literature, but later in popular use. UFOs garnered considerable interest during the Cold War, an era associated with a heightened concerns about national security, and, more recently, in the 2010s, for unexplained reasons. Nevertheless, various studies have concluded that the phenomenon does not represent a threat, and nor does it contain anything worthy of scientific pursuit (e.g., 1951 Flying Saucer Working Party, 1953 CIA Robertson Panel, USAF Project Blue Book, Condon Committee).\\nThe Oxford English Dictionary defines a UFO as \"An unidentified flying object; a \\'flying saucer\\'\". The first published book to use the word was authored by Donald E. Keyhoe.As an acronym, \"UFO\" was coined by Captain Edward J. Ruppelt, who headed Project Blue Book, then the USAF\\'s official investigation of UFOs. He wrote, \"Obviously the term \\'flying saucer\\' is misleading when applied to objects of every conceivable shape and performance. For this reason the military prefers the more general, if less colorful, name: unidentified flying objects. UFO (pronounced yoo-foe) for short.\" Other phrases that were used officially and that predate the UFO acronym include \"flying flapjack\", \"flying disc\", \"unexplained flying discs\", and \"unidentifiable object\".The phrase \"flying saucer\" gained widespread attention after the Northern Hemisphere summer of 1947. On June 24, a civilian pilot named Kenneth Arnold reported seeing nine objects flying in formation near Mount Rainier in the United States. Arnold timed the sighting and estimated the speed of discs to be over 1,200 mph (1,931 km/h). At the time, he claimed he described the objects flying in a saucer-like fashion, leading to newspaper accounts of \"flying saucers\" and \"flying discs\". UFOs were commonly referred to colloquially, as a \"Bogey\" by Western military personnel and pilots during the cold war. The term \"bogey\" was originally used to report anomalies in radar blips, to indicate possible hostile forces that might be roaming in the area.In popular usage, the term UFO came to be used to refer to claims of alien spacecraft, and because of the public and media ridicule associated with the topic, some ufologists and investigators prefer to use terms such as \"unidentified aerial phenomenon\" (UAP) or \"anomalous phenomena\", as in the title of the National Aviation Reporting Center on Anomalous Phenomena (NARCAP). \"Anomalous aerial vehicle\" (AAV) or \"unidentified aerial system\" (UAS) are also sometimes used in a military aviation context to describe unidentified targets.\\n\\n\\n=== Extraterrestrial hypothesis ===\\n\\nWhile technically a UFO refers to any unidentified flying object, in modern popular culture the term UFO has generally become synonymous with alien spacecraft; however, the term ETV (ExtraTerrestrial Vehicle) is sometimes used to separate this explanation of UFOs from totally earthbound explanations.\\n\\n\\n== Studies ==\\nCritics argue that all UFO evidence is anecdotal and can be explained as prosaic natural phenomena. Defenders of UFO research counter that knowledge of observational data, other than what is reported in the popular media, is limited in the scientific community and further study is needed. Studies have established that the majority of UFO observations are misidentified conventional objects or natural phenomena—most commonly aircraft, balloons including sky lanterns, satellites, and astronomical objects such as meteors, bright stars and planets. A small percentage are hoaxes. Fewer than 10% of reported sightings remain unexplained after proper investigation and therefore can be classified as unidentified in the strictest sense. According to Steven Novella, proponents of the extraterrestrial hypothesis (ETH) suggest these unexplained reports are of alien spacecraft, however the null hypothesis cannot be excluded; that these reports are simply other more prosaic phenomena that cannot be identified due to lack of complete information or due to the necessary subjectivity of the reports. Novella says that instead of accepting the null hypothesis, UFO enthusiasts tend to engage in special pleading by offering outlandish, untested explanations for the validity of the ETH, which violate Occam\\'s razor.\\n\\n\\n=== Scientific ===\\nUfology is not generally considered credible in mainstream science. There was, in the past, some debate in the scientific community about whether any scientific investigation into UFO sightings is warranted, with the general conclusion that the phenomenon was not worthy of serious investigation except as a cultural artifact.\\n\\nThe study of UFOs has received little support in mainstream scientific literature. Official studies ended in the U.S. in December 1969, following the statement by the government scientist Edward Condon that further study of UFOs could not be justified on grounds of scientific advancement. The Condon Report and its conclusions were endorsed by the National Academy of Scientists, of which Condon was a member. On the other hand, a scientific review by the UFO subcommittee of the American Institute of Aeronautics and Astronautics (AIAA) disagreed with Condon\\'s conclusion, noting that at least thirty percent of the cases studied remained unexplained and that scientific benefit might be gained by continued study.\\nLike Hynek, Jacques Vallée, a scientist and prominent UFO researcher, has pointed to what he believes is the scientific deficiency of most UFO research, including government studies. He complains of the mythology and cultism often associated with the phenomenon but alleges that several hundred professional scientists—a group both he and Hynek have termed \"the invisible college\"—continue to study UFOs in private.UFOs have become a prevalent theme in modern culture, and the social phenomena have been the subject of academic research in sociology and psychology.\\n\\n\\n==== Sturrock panel categorization ====\\nBesides anecdotal visual sightings, reports sometimes include claims of other kinds of evidence, including cases studied by the military and various government agencies of different countries (such as Project Blue Book, the Condon Committee, the French GEPAN/SEPRA, and Uruguay\\'s current Air Force study).\\nA comprehensive scientific review of cases where physical evidence was available was carried out by the 1998 Sturrock panel, with specific examples of many of the categories listed below.\\n\\nRadar contact and tracking, sometimes from multiple sites. These have included military personnel and control tower operators, simultaneous visual sightings, and aircraft intercepts. One such example was the mass sightings of large, silent, low-flying black triangles in 1989 and 1990 over Belgium, tracked by NATO radar and jet interceptors, and investigated by Belgium\\'s military (included photographic evidence). Another famous case from 1986 was the Japan Air Lines flight 1628 incident over Alaska investigated by the Federal Aviation Administration (FAA).\\nPhotographic evidence, including still photos, movie film, and video.\\nClaims of physical trace of landing UFOs, including ground impressions, burned or desiccated soil, burned and broken foliage, magnetic anomalies, increased radiation levels, and metallic traces. (See, e. g. Height 611 UFO incident or the 1964 Lonnie Zamora\\'s Socorro, New Mexico encounter of the USAF Project Blue Book cases.) A well-known example from December 1980 was the USAF Rendlesham Forest incident in England. Another occurred in January 1981 in Trans-en-Provence and was investigated by GEPAN, then France\\'s official government UFO-investigation agency. Project Blue Book head Edward J. Ruppelt described a classic 1952 CE2 case involving a patch of charred grass roots.\\nPhysiological effects on people and animals including temporary paralysis, skin burns and rashes, corneal burns, and symptoms superficially resembling radiation poisoning, such as the Cash-Landrum incident in 1980.\\nAnimal/cattle mutilation cases, which some feel are also part of the UFO phenomenon.\\nBiological effects on plants such as increased or decreased growth, germination effects on seeds, and blown-out stem nodes (usually associated with physical trace cases or crop circles)\\nElectromagnetic interference (EM) effects. A famous 1976 military case over Tehran, recorded in CIA and DIA classified documents, was associated with communication losses in multiple aircraft and weapons system failure in an F-4 Phantom II jet interceptor as it was about to fire a missile on one of the UFOs.\\nApparent remote radiation detection, some noted in FBI and CIA documents occurring over government nuclear installations at Los Alamos National Laboratory and Oak Ridge National Laboratory in 1950, also reported by Project Blue Book director Edward J. Ruppelt in his book.\\nClaimed artifacts of UFOs themselves, such as 1957, Ubatuba, Brazil, magnesium fragments analyzed by the Brazilian government and in the Condon Report and by others. The 1964 Lonnie Zamora incident also left metal traces, analyzed by NASA. A more recent example involves a teardrop-shaped object recovered by Bob White and was featured in a television episode of UFO Hunters but was later found to be waste metal residue from a milling machine.\\nAngel hair and angel grass, possibly explained in some cases as nests from ballooning spiders or chaff.\\n\\n\\n==== Scientific skepticism ====\\nA scientifically skeptical group that has for many years offered critical analyses of UFO claims is the Committee for Skeptical Inquiry (CSI).\\nOne example is the response to local beliefs that \"extraterrestrial beings\" in UFOs were responsible for crop circles appearing in Indonesia, which the government and the National Institute of Aeronautics and Space (LAPAN) described as \"man-made\". Thomas Djamaluddin, research professor of astronomy and astrophysics at LAPAN stated: \"We have come to agree that this \\'thing\\' cannot be scientifically proven. Scientists have put UFOs in the category of pseudoscience.\"\\n\\n\\n=== Governmental ===\\n\\nUFOs have been the subject of investigations by various governments who have provided extensive records related to the subject. Many of the most involved government-sponsored investigations ended after agencies concluded that there was no benefit to continued investigation. These same negative conclusions also have been found in studies that were highly classified for many years, such as the UK\\'s Flying Saucer Working Party, Project Condign, the U.S. CIA-sponsored Robertson Panel, the U.S. military investigation into the green fireballs from 1948 to 1951, and the Battelle Memorial Institute study for the USAF from 1952 to 1955 (Project Blue Book Special Report No. 14).\\nSome public government reports have acknowledged the possibility of the physical reality of UFOs, but have stopped short of proposing extraterrestrial origins, though not dismissing the possibility entirely. Examples are the Belgian military investigation into large triangles over their airspace in 1989–1991 and the 2009 Uruguayan Air Force study conclusion (see below).\\n\\n\\n==== Claims by military, government, and aviation personnel ====\\nSince 2001, there have been calls for greater openness on the part of the government by various persons. In May 2001, a press conference was held at the National Press Club in Washington, D.C., by an organization called the Disclosure Project, featuring twenty persons including retired Air Force and FAA personnel, intelligence officers and an air traffic controller. They all gave a brief account of what they knew or had witnessed, and said they would be willing to testify under oath to a Congressional committee. According to a 2002 report in the Oregon Daily Emerald, Disclosure Project founder Steven M. Greer has gathered 120 hours of testimony from various government officials on the topic of UFOs, including astronaut Gordon Cooper and a Brigadier General.In 2007, former Arizona governor Fife Symington came forward and belatedly claimed he had seen \"a massive, delta-shaped craft silently navigate over Squaw Peak, a mountain range in Phoenix, Arizona\" in 1997.On September 27, 2010, a group of six former USAF officers and one former enlisted Air Force man held a press conference at the National Press Club in Washington, D.C., on the theme \"U.S. Nuclear Weapons Have Been Compromised by Unidentified Aerial Objects.\" They told how they had witnessed UFOs hovering near missile sites and even disarming the missiles.\\nFrom April 29 to May 3, 2013, the Paradigm Research Group held the \"Citizen Hearing on Disclosure\" at the National Press Club. The group paid former U.S. Senator Mike Gravel and former Representatives Carolyn Cheeks Kilpatrick, Roscoe Bartlett, Merrill Cook, Darlene Hooley, and Lynn Woolsey $20,000 each to hear testimony from a panel of researchers which included witnesses from military, agency, and political backgrounds.Apollo 14 astronaut Dr. Edgar Mitchell claimed he knew of senior government employees who had been involved in \"close encounters\", and because of this, he has no doubt that aliens have visited Earth.In May 2019, The New York Times reported that American Navy fighter jets had several encounters with unexplained objects while conducting exercises off the eastern seaboard of the United States from the summer of 2014 to March 2015. The Times published a cockpit instrument video of an object moving at high speed near the ocean surface as it appeared to rotate. Pilots observed that the objects were capable of high acceleration, deceleration and maneuverability. In two separate incidents, a pilot reported his cockpit instruments locked onto and tracked objects but he was unable to see them through his helmet camera. In another encounter, an object described as a sphere encasing a cube passed between two jets as they flew about 100 feet apart. The Pentagon officially released these videos on April 27, 2020. The United States Navy has said there have been \"a number of reports of unauthorized and/or unidentified aircraft entering various military-controlled ranges and designated air space in recent years\".\\n\\nIn March 2021, news media announced a comprehensive report is to be compiled of UFO events accumulated by the United States over the years.On April 12, 2021, the Pentagon confirmed the authenticity of pictures and videos gathered by the Unidentified Aerial Phenomena Task Force (UAPTF), purportedly showing \"pyramid shaped objects\" hovering above the USS Russell in 2019, off the coast of California, with spokeswoman Susan Gough saying \"I can confirm that the referenced photos and videos were taken by Navy personnel. The UAPTF has included these incidents in their ongoing examinations.\" In May 2021, military pilots recalled their related encounters, along with camera and radar support, including one pilot\\'s account noting that such incidents occurred \"every day for at least a couple of years\", according to an interview broadcast on the news program, 60 Minutes (16 May 2021). Science writer and skeptic Mick West suggested the image was the result of an optical effect called a bokeh which can make out of focus light sources appear triangular or pyramidal due to the shape of the aperture of some lenses.On June 25, 2021, U.S. Defense and intelligence officials released the Pentagon UFO Report on what they know about a series of unidentified flying objects that have been seen by American military pilots. NASA Administrator Bill Nelson said that the UFO sightings by pilots \"may not be extraterrestrial.\"\\n\\n\\n==== Conspiracy theories ====\\n\\nUFOs are sometimes an element of conspiracy theories in which governments are allegedly intentionally \"covering up\" the existence of aliens by removing physical evidence of their presence or even collaborating with extraterrestrial beings. There are many versions of this story; some are exclusive, while others overlap with various other conspiracy theories.\\nIn the U.S., an opinion poll conducted in 1997 suggested that 80% of Americans believed the U.S. government was withholding such information. Various notables have also expressed such views. Some examples are astronauts Gordon Cooper and Edgar Mitchell, Senator Barry Goldwater, Vice Admiral Roscoe H. Hillenkoetter (the first CIA director), Lord Hill-Norton (former British Chief of Defense Staff and NATO head), the 1999 French COMETA study by various French generals and aerospace experts, and Yves Sillard (former director of CNES, new director of French UFO research organization GEIPAN).It has also been suggested by a few paranormal authors that all or most human technology and culture is based on extraterrestrial contact (see also ancient astronauts).\\n\\n\\n=== Fringe ===\\nThe void left by the lack of institutional or scientific study has given rise to independent researchers and fringe groups, including the National Investigations Committee on Aerial Phenomena (NICAP) in the mid-20th century and, more recently, the Mutual UFO Network (MUFON) and the Center for UFO Studies (CUFOS). The term \"Ufology\" is used to describe the collective efforts of those who study reports and associated evidence of unidentified flying objects.\\n\\n\\n=== Private ===\\nSome private studies have been neutral in their conclusions but argued that the inexplicable core cases call for continued scientific study. Examples are the Sturrock panel study of 1998 and the 1970 AIAA review of the Condon Report.\\n\\n\\n=== Ufology ===\\n\\nUfology is a neologism describing the collective efforts of those who study UFO reports and associated evidence.\\n\\n\\n==== Researchers ====\\n\\n\\n==== Sightings ====\\n\\n\\n==== Organizations ====\\n\\n\\n==== Categorization ====\\nSome ufologists recommend that observations be classified according to the features of the phenomenon or object that are reported or recorded. Typical categories include:\\n\\nSaucer, toy-top, or disk-shaped \"craft\" without visible or audible propulsion.\\nLarge triangular \"craft\" or triangular light pattern, usually reported at night.\\nCigar-shaped \"craft\" with lighted windows (meteor fireballs are sometimes reported this way, but are very different phenomena).\\nOther: chevrons, (equilateral) triangles, crescent, boomerangs, spheres (usually reported to be shining, glowing at night), domes, diamonds, shapeless black masses, eggs, pyramids and cylinders, classic \"lights\".Popular UFO classification systems include the Hynek system, created by J. Allen Hynek, and the Vallée system, created by Jacques Vallée.Hynek\\'s system involves dividing the sighted object by appearance, subdivided further into the type of \"close encounter\" (a term from which the film director Steven Spielberg derived the title of his 1977 UFO movie, Close Encounters of the Third Kind).\\nJacques Vallée\\'s system classifies UFOs into five broad types, each with from three to five subtypes that vary according to type.\\n\\n\\n== Investigations ==\\nUFOs have been subject to investigations over the years that varied widely in scope and scientific rigor. Governments or independent academics in the United States, Canada, the United Kingdom, Japan, Peru, France, Belgium, Sweden, Brazil, Chile, Uruguay, Mexico, Spain, and the Soviet Union are known to have investigated UFO reports at various times. No official government investigation has ever publicly concluded that UFOs are indisputably real, physical objects, extraterrestrial in origin, or of concern to national defense. \\nAmong the best known government studies are the ghost rockets investigation by the Swedish military (1946–1947), Project Blue Book, previously Project Sign and Project Grudge, conducted by the USAF from 1947 until 1969, the secret U.S. Army/Air Force Project Twinkle investigation into green fireballs (1948–1951), the secret USAF Project Blue Book Special Report No. 14 by the Battelle Memorial Institute, and the Brazilian Air Force\\'s 1977 Operação Prato (Operation Saucer). France has had an ongoing investigation (GEPAN/SEPRA/GEIPAN) within its space agency Centre national d\\'études spatiales (CNES) since 1977; the government of Uruguay has had a similar investigation since 1989.\\n\\n\\n=== Assessment of the reality of sightings ===\\n\\nStudies show that after careful investigation, the majority of UFOs can be identified as ordinary objects or phenomena. The most commonly found identified sources of UFO reports are:\\n\\nAstronomical objects (bright stars, planets, meteors, re-entering man-made spacecraft, artificial satellites, and the Moon)\\nAircraft (aerial advertising and other aircraft, missile launches)\\nBalloons (toy balloons, weather balloons, large research balloons)\\nOther atmospheric objects and phenomena (birds, unusual clouds, kites, flares)\\nLight phenomena mirages, Fata Morgana, ball lightning, moon dogs, searchlights and other ground lights, etc.\\nHoaxesA 1952–1955 study by the Battelle Memorial Institute for the USAF included these categories as well as a \"psychological\" one.\\nAn individual 1979 study by CUFOS researcher Allan Hendry found, as did other investigations, that less than one percent of cases he investigated were hoaxes and most sightings were actually honest misidentifications of prosaic phenomena. Hendry attributed most of these to inexperience or misperception.The Avro Canada VZ-9AV Avrocar was a concept vehicle produced during the 1950s, which was a functional aircraft with a saucer shape. \\n\\n\\n=== Americas ===\\n\\n\\n==== Brazil (1952–2016) ====\\n\\nOn October 31, 2008, the National Archives of Brazil began receiving from the Aeronautical Documentation and History Center part of the documentation of the Brazilian Air Force regarding the investigation of the appearance of UFOs in Brazil. Currently, this collection gathers cases between 1952 and 2016.\\n\\n\\n==== Canada (c. 1950) ====\\nIn Canada, the Department of National Defence has dealt with reports, sightings and investigations of UFOs across Canada. In addition to conducting investigations into crop circles in Duhamel, Alberta, it still considers \"unsolved\" the Falcon Lake incident in Manitoba and the Shag Harbour UFO incident in Nova Scotia.Early Canadian studies included Project Magnet (1950–1954) and Project Second Storey (1952–1954), supported by the Defence Research Board.\\n\\n\\n==== United States ====\\n\\n\\n===== Synopsis =====\\nU.S. investigations into UFOs include:\\n\\nAccording to UFO researcher Timothy Good, he received a letter from the Army\\'s director of counter-intelligence confirming the existence of the Interplanetary Phenomenon Unit. Good claims the letter shows that the IPU was established by the U.S. Army sometime in the 1940s and disestablished sometime during the late 1950s.\\nProject Blue Book, previously Project Sign and Project Grudge, conducted by the USAF from 1947 until 1969\\nThe secret U.S. Army/Air Force Project Twinkle investigation into green fireballs (1948–1951)\\nGhost rockets investigations by the Swedish, UK, U.S., and Greek militaries (1946–1947)\\nThe secret CIA Office of Scientific Investigation (OS/I) study (1952–53)\\nThe secret CIA Robertson Panel (1953)\\nThe secret USAF Project Blue Book Special Report No. 14 by the Battelle Memorial Institute (1951–1954)\\nThe Brookings Report (1960), commissioned by NASA\\nThe public Condon Committee (1966–1968)\\nThe private, internal RAND Corporation study (1968)\\nThe private Sturrock panel (1998)\\nThe secret Advanced Aviation Threat Identification Program which was funded from 2007 to 2012.\\nThe Unidentified Aerial Phenomena Task Force, a continuing program within the United States Office of Naval Intelligence which was acknowledged in 2017.Thousands of documents released under FOIA also indicate that many U.S. intelligence agencies collected (and still collect) information on UFOs. These agencies include the Defense Intelligence Agency (DIA), FBI, CIA, National Security Agency (NSA), as well as military intelligence agencies of the Army and U.S. Navy, in addition to the Air Force.The investigation of UFOs has also attracted many civilians, who in the U.S formed research groups such as NICAP (active 1956–1980), Aerial Phenomena Research Organization (APRO) (active 1952–1988), MUFON (active 1969–), and CUFOS (active 1973–).\\n\\n\\n===== USAAF and FBI response to the 1947 sightings =====\\nFollowing the large U.S. surge in sightings in June and early July 1947, on July 9, 1947, United States Army Air Forces (USAAF) intelligence, in cooperation with the FBI, began a formal investigation into selected sightings with characteristics that could not be immediately rationalized, such as Kenneth Arnold\\'s. The USAAF used \"all of its top scientists\" to determine whether \"such a phenomenon could, in fact, occur\". The research was \"being conducted with the thought that the flying objects might be a celestial phenomenon,\" or that \"they might be a foreign body mechanically devised and controlled.\" Three weeks later in a preliminary defense estimate, the air force investigation decided that, \"This \\'flying saucer\\' situation is not all imaginary or seeing too much in some natural phenomenon. Something is really flying around.\"A further review by the intelligence and technical divisions of the Air Materiel Command at Wright Field reached the same conclusion. It reported that \"the phenomenon is something real and not visionary or fictitious,\" and there were disc-shaped objects, metallic in appearance, as big as man-made aircraft. They were characterized by \"extreme rates of climb [and] maneuverability\", general lack of noise, absence of a trail, occasional formation flying, and \"evasive\" behavior \"when sighted or contacted by friendly aircraft and radar\", suggesting a controlled craft. It was therefore recommended in late September 1947 that an official Air Force investigation be set up. It was also recommended that other government agencies should assist in the investigation.\\n\\n\\n===== USAF =====\\n\\n\\n====== Projects Sign (1947–1949), Grudge (1948–1951), and Blue Book (1951–1970) ======\\n\\nProject Sign\\'s final report, published in early 1949, stated that while some UFOs appeared to represent actual aircraft, there was not enough data to determine their origin.The Air Force\\'s Project Sign was created at the end of 1947, and was one of the earliest government studies to come to a secret extraterrestrial conclusion. In August 1948, Sign investigators wrote a top-secret intelligence estimate to that effect, but the Air Force Chief of Staff Hoyt Vandenberg ordered it destroyed. The existence of this suppressed report was revealed by several insiders who had read it, such as astronomer and USAF consultant J. Allen Hynek and Capt. Edward J. Ruppelt, the first head of the USAF\\'s Project Blue Book.Another highly classified U.S. study was conducted by the CIA\\'s Office of Scientific Investigation (OS/I) in the latter half of 1952 in response to orders from the National Security Council (NSC). This study concluded UFOs were real physical objects of potential threat to national security. One OS/I memo to the CIA Director (DCI) in December read that \"the reports of incidents convince us that there is something going on that must have immediate attention ... Sightings of unexplained objects at great altitudes and traveling at high speeds in the vicinity of major U.S. defense installations are of such a nature that they are not attributable to natural phenomena or any known types of aerial vehicles.\" The matter was considered so urgent that OS/I drafted a memorandum from the DCI to the NSC proposing that the NSC establish an investigation of UFOs as a priority project throughout the intelligence and the defense research and development community. It also urged the DCI to establish an external research project of top-level scientists, now known as the Robertson Panel to analyze the problem of UFOs. The OS/I investigation was called off after the Robertson Panel\\'s negative conclusions in January 1953.Project Sign was dismantled and became Project Grudge at the end of 1948. Angered by the low quality of investigations by Grudge, the Air Force Director of Intelligence reorganized it as Project Blue Book in late 1951, placing Ruppelt in charge. J. Allen Hynek, a trained astronomer who served as a scientific advisor for Project Blue Book, was initially skeptical of UFO reports, but eventually came to the conclusion that many of them could not be satisfactorily explained and was highly critical of what he described as \"the cavalier disregard by Project Blue Book of the principles of scientific investigation\". Leaving government work, he founded the privately funded CUFOS, to whose work he devoted the rest of his life. Other private groups studying the phenomenon include the MUFON, a grassroots organization whose investigator\\'s handbooks go into great detail on the documentation of alleged UFO sightings.\\n\\n\\n====== USAF Regulation 200-2 (1953–1954) ======\\nAir Force Regulation 200-2, issued in 1953 and 1954, defined an Unidentified Flying Object (\"UFOB\") as \"any airborne object which by performance, aerodynamic characteristics, or unusual features, does not conform to any presently known aircraft or missile type, or which cannot be positively identified as a familiar object.\" The regulation also said UFOBs were to be investigated as a \"possible threat to the security of the United States\" and \"to determine technical aspects involved.\" The regulation went on to say that \"it is permissible to inform news media representatives on UFOB\\'s when the object is positively identified as a familiar object\" but added: \"For those objects which are not explainable, only the fact that ATIC [Air Technical Intelligence Center] will analyze the data is worthy of release, due to many unknowns involved.\"\\n\\n\\n===== Blue Book and the Condon Committee (1968–1970) =====\\n\\nA public research effort conducted by the Condon Committee for the USAF and published as the Condon Report arrived at a negative conclusion in 1968. Blue Book closed down in 1970, using the Condon Committee\\'s negative conclusion as a rationale, thus ending official Air Force UFO investigations. However, a 1969 USAF document, known as the Bolender memo, along with later government documents, revealed that non-public U.S. government UFO investigations continued after 1970. The Bolender memo first stated that \"reports of unidentified flying objects that could affect national security ... are not part of the Blue Book system,\" indicating that more serious UFO incidents already were handled outside the public Blue Book investigation. The memo then added, \"reports of UFOs which could affect national security would continue to be handled through the standard Air Force procedures designed for this purpose.\" In addition, in the late 1960s a chapter on UFOs in the Space Sciences course at the U.S. Air Force Academy gave serious consideration to possible extraterrestrial origins. When word of the curriculum became public, the Air Force in 1970 issued a statement to the effect that the book was outdated and cadets instead were being informed of the Condon Report\\'s negative conclusion.Controversy surrounded the report, both before and after its release. It has been observed that the report was \"harshly criticized by numerous scientists, particularly at the powerful AIAA ... [which] recommended moderate, but continuous scientific work on UFOs.\" In an address to the AAAS, James E. McDonald said he believed science had failed to mount adequate studies of the problem and criticized the Condon Report and earlier studies by the USAF as scientifically deficient. He also questioned the basis for Condon\\'s conclusions and argued that the reports of UFOs have been \"laughed out of scientific court\". J. Allen Hynek, an astronomer who worked as a USAF consultant from 1948, sharply criticized the Condon Committee Report and later wrote two nontechnical books that set forth the case for continuing to investigate UFO reports.\\nRuppelt recounted his experiences with Project Blue Book, a USAF investigation that preceded Condon\\'s.\\n\\n\\n===== White House statement of November 2011 =====\\nIn November 2011, the White House released an official response to two petitions asking the U.S. government to acknowledge formally that aliens have visited this planet and to disclose any intentional withholding of government interactions with extraterrestrial beings. According to the response: \\n\\nThe U.S. government has no evidence that any life exists outside our planet, or that an extraterrestrial presence has contacted or engaged any member of the human race...no credible information to suggest that any evidence is being hidden from the public\\'s eye.... \\nThe response further noted that efforts, like SETI and NASA\\'s Kepler space telescope and Mars Science Laboratory, continue looking for signs of life. The response noted \"odds are pretty high\" that there may be life on other planets but \"the odds of us making contact with any of them—especially any intelligent ones—are extremely small, given the distances involved.\"\\n\\n\\n===== ODNI report 2021 =====\\nOn June 25, 2021, the Office of the Director of National Intelligence released a report on UAPs. The report found that the UAPTF was unable to identify 143 objects spotted between 2004 and 2021. The report said that 18 of these featured unusual movement patterns or flight characteristics, adding that more analysis was needed to determine if those sightings represented \"breakthrough\" technology. The report said that \"some of these steps are resource-intensive and would require additional investment.\" The report did not link the sightings to extraterrestrial life.\\n\\n\\n==== Uruguay (c. 1989) ====\\nThe Uruguayan Air Force has conducted UFO investigations since 1989 and reportedly analyzed 2,100 cases of which they regard approximately 2% as lacking explanation.\\n\\n\\n=== Europe ===\\n\\n\\n==== France (1977–2008) ====\\nOn March 2007, the French space agency CNES published an archive of UFO sightings and other phenomena online.French studies include GEPAN/SEPRA/GEIPAN within CNES (French space agency), the longest ongoing government-sponsored investigation. About 22% of the 6,000 cases studied remain unexplained. The official opinion of GEPAN/SEPRA/GEIPAN has been neutral, stating on their FAQ page that their mission is fact-finding for the scientific community, not rendering an opinion. They add they can neither prove nor disprove the Extraterrestrial Hypothesis (ETH), but their Steering Committee\\'s clear position is that they cannot discard the possibility that some fraction of the very strange 22% of unexplained cases might be due to distant and advanced civilizations. Possibly their bias may be indicated by their use of the terms \"PAN\" (French) or \"UAP\" (English equivalent) for \"Unidentified Aerospace Phenomenon\" (whereas \"UAP\" is normally used by English organizations stands for \"Unidentified Aerial Phenomenon\", a more neutral term). In addition, the three heads of the studies have gone on record in stating that UFOs were real physical flying machines beyond our knowledge or that the best explanation for the most inexplicable cases was an extraterrestrial one.In 2008, Michel Scheller, president of the Association Aéronautique et Astronautique de France (3AF), created the Sigma Commission. Its purpose was to investigate UFO phenomenon worldwide. A progress report published in May 2010 stated that the central hypothesis proposed by the COMETA report is perfectly credible. In December 2012, the final report of the Sigma Commission was submitted to Scheller. Following the submission of the final report, the Sigma2 Commission is to be formed with a mandate to continue the scientific investigation of UFO phenomenon.\\n\\n\\n==== Italy (1933–2005) ====\\n\\nAccording to some Italian ufologists, the first documented case of a UFO sighting in Italy dates back to April 11, 1933, to Varese. Documents of the time show that an alleged UFO crashed or landed near Vergiate. Following this, Benito Mussolini created a secret group to look at it, called Cabinet RS/33.Alleged UFO sightings gradually increased since the war, peaking in 1978 and 2005. The total number of sightings since 1947 are 18,500, of which 90% are identifiable.In 2000, Italian ufologist Roberto Pinotti published material regarding the so-called \"Fascist UFO Files\", which dealt with an alleged flying saucer that was supposed to have crashed near Milan in 1933 (some 14 years before the Roswell, New Mexico, crash), and of the subsequent investigation by a never mentioned before Cabinet RS/33, that allegedly was authorized by Benito Mussolini, and headed by the Nobel scientist Guglielmo Marconi. A spaceship was allegedly stored in the hangars of the SIAI Marchetti in Vergiate near Milan.\\n\\n\\n==== United Kingdom (1951–2009) ====\\nThe UK\\'s Flying Saucer Working Party published its final report in June 1951, which remained secret for over fifty years. The Working Party concluded that all UFO sightings could be explained as misidentifications of ordinary objects or phenomena, optical illusions, psychological misperceptions/aberrations, or hoaxes. The report stated: \"We accordingly recommend very strongly that no further investigation of reported mysterious aerial phenomena be undertaken, unless and until some material evidence becomes available.\"Eight file collections on UFO sightings, dating from 1978 to 1987, were first released on May 14, 2008, to The National Archives by the Ministry of Defence (MoD). Although kept secret from the public for many years, most of the files have low levels of classification and none are classified Top Secret. 200 files are set to be made public by 2012. The files are correspondence from the public sent to the British government and officials, such as the MoD and Margaret Thatcher. The MoD released the files under the Freedom of Information Act due to requests from researchers. These files include, but are not limited to, UFOs over Liverpool and Waterloo Bridge in London.On October 20, 2008, more UFO files were released. One case released detailed that in 1991 an Alitalia passenger aircraft was approaching London Heathrow Airport when the pilots saw what they described as a \"cruise missile\" fly extremely close to the cockpit. The pilots believed a collision was imminent. UFO expert David Clarke says this is one of the most convincing cases for a UFO he has come across.A secret study of UFOs was undertaken for the Ministry of Defence between 1996 and 2000 and was code-named Project Condign. The resulting report, titled \"Unidentified Aerial Phenomena in the UK Defence Region\", was publicly released in 2006, but the identity and credentials of whomever constituted Project Condign remains classified. The report confirmed earlier findings that the main causes of UFO sightings are misidentification of man-made and natural objects. The report noted: \"No artefacts of unknown or unexplained origin have been reported or handed to the UK authorities, despite thousands of Unidentified Aerial Phenomena reports. There are no SIGINT, ELINT or radiation measurements and little useful video or still IMINT.\" It concluded: \"There is no evidence that any UAP, seen in the UKADR [UK Air Defence Region], are incursions by air-objects of any intelligent (extraterrestrial or foreign) origin, or that they represent any hostile intent.\" A little-discussed conclusion of the report was that novel meteorological plasma phenomenon akin to ball lightning are responsible for \"the majority, if not all\" of otherwise inexplicable sightings, especially reports of black triangle UFOs.On December 1, 2009, the Ministry of Defence quietly closed down its UFO investigations unit. The unit\\'s hotline and email address were suspended by the MoD on that date. The MoD said there was no value in continuing to receive and investigate sightings in a release, stating that \"in over fifty years, no UFO report has revealed any evidence of a potential threat to the United Kingdom. The MoD has no specific capability for identifying the nature of such sightings. There is no Defence benefit in such investigation and it would be an inappropriate use of defence resources. Furthermore, responding to reported UFO sightings diverts MoD resources from tasks that are relevant to Defence.\" The Guardian reported that the MoD claimed the closure would save the Ministry around £50,000 a year. The MoD said it would continue to release UFO files to the public through The National Archives.\\n\\n\\n== In popular culture ==\\n\\nUFOs have constituted a widespread international cultural phenomenon since the 1950s. Gallup Polls rank UFOs near the top of lists for subjects of widespread recognition. In 1973, a survey found that 95 percent of the public reported having heard of UFOs, whereas only 92 percent had heard of U.S. President Gerald Ford in a 1977 poll taken just nine months after he left the White House. A 1996 Gallup Poll reported that 71 percent of the United States population believed the U.S. government was covering up information regarding UFOs. A 2002 Roper Poll for the Sci-Fi Channel found similar results, but with more people believing UFOs are extraterrestrial craft. In that latest poll, 56 percent thought UFOs were real craft and 48 percent that aliens had visited the Earth. Again, about 70 percent felt the government was not sharing everything it knew about UFOs or extraterrestrial life.Another effect of the flying saucer type of UFO sightings has been Earth-made flying saucer craft in space fiction, for example the United Planets Cruiser C57D in Forbidden Planet (1956), the Jupiter 2 in Lost in Space, and the saucer section of the USS Enterprise in Star Trek. UFOs and extraterrestrials have been featured in many movies.\\nThe intense secrecy surrounding the secret Nevada base, known as Area 51, has made it the frequent subject of conspiracy theories and a central component of UFO folklore. In July 2019, more than 2 million people responded to a joke proposal to storm Area 51 which appeared in an anonymous Facebook post. Two music festivals in rural Nevada, \"AlienStock\" and \"Storm Area 51 Basecamp\", were subsequently organized to capitalize on the popularity of the original Facebook event.\\n\\n\\n== See also ==\\nKenneth Arnold UFO sighting\\nKosmopoisk\\nList of reported UFO sightings\\nMajestic 12\\nMystery airship\\nPentagon UFO Report\\nPsychosocial hypothesis\\nUFO religion\\nUfology\\nUnidentified submerged object, or USO\\n\\n\\n== Notes ==\\n\\n\\n== References ==\\n\\n\\n== Bibliography ==\\n\\n\\n=== General ===\\n\\n\\n=== History ===\\n\\n\\n=== Psychology ===\\n\\n\\n=== Technology ===\\n\\n\\n=== Skepticism ===\\n\\n\\n== External links ==\\n\\n\"Government Reports on UFOs\" from the Government Information Library at the University of Colorado Boulder\\n\"CIA\\'s Role in the Study of UFOs, 1947–90\" by Gerald K. Haines, Central Intelligence Agency\\n\"UFOs: Fact or Fiction?\" Declassified CIA documents from the 1940s through the early 1990s.\\n\"UFO Reports in the UK\" from 1997 to 2009 by the Ministry of Defence\\n\"Newly released UFO files from the UK government\" at The National Archives\\n\"Canada\\'s UFOs: The Search for the Unknown\", a virtual museum exhibition by the Library and Archives Canada\\nDeclassified files on UFOs from many countries\\nDeclassified video—Chilean UAP event of November 11, 2014 (official; video (9:59))\\nAn astrophysicist\\'s view of UFOs (Adam Frank; NYT; May 30, 2021)\\nA list of skeptical resources (astronomer Andrew Fraknoi)\\nUFO Explanations (videos; scientist Mick West)\\nSome UAPs may be laser-generated holograms? (WSJ; July 29, 2021).'"
            ]
          },
          "metadata": {
            "tags": []
          },
          "execution_count": 2
        }
      ]
    },
    {
      "cell_type": "code",
      "metadata": {
        "colab": {
          "base_uri": "https://localhost:8080/"
        },
        "id": "gVMwrSZzjjM0",
        "outputId": "0a2e6767-349c-43aa-96ae-8825c34712cc"
      },
      "source": [
        "import nltk\n",
        "nltk.download('stopwords')"
      ],
      "execution_count": null,
      "outputs": [
        {
          "output_type": "stream",
          "text": [
            "[nltk_data] Downloading package stopwords to /root/nltk_data...\n",
            "[nltk_data]   Package stopwords is already up-to-date!\n"
          ],
          "name": "stdout"
        },
        {
          "output_type": "execute_result",
          "data": {
            "text/plain": [
              "True"
            ]
          },
          "metadata": {
            "tags": []
          },
          "execution_count": 3
        }
      ]
    },
    {
      "cell_type": "markdown",
      "metadata": {
        "id": "me2kUDcG4OWq"
      },
      "source": [
        "### PKE: TextRank\n",
        "\n",
        "https://boudinfl.github.io/pke/build/html/unsupervised.html#graph-based-models"
      ]
    },
    {
      "cell_type": "code",
      "metadata": {
        "id": "nEgwFNkRYKZ7"
      },
      "source": [
        "def textrank(raw_text, no_kw):    \n",
        "    \n",
        "    import pke\n",
        "\n",
        "    # define the set of valid Part-of-Speeches\n",
        "    pos = {'NOUN', 'PROPN', 'ADJ'}\n",
        "\n",
        "    # 1. create a TextRank extractor.\n",
        "    extractor = pke.unsupervised.TextRank()\n",
        "\n",
        "    # 2. load the content of the document.\n",
        "    extractor.load_document(input=raw_text,\n",
        "                            language='en',\n",
        "                            normalization=None)\n",
        "\n",
        "    # 3. build the graph representation of the document and rank the words.\n",
        "    extractor.candidate_weighting(window=100, #the window for connecting two words in the graph\n",
        "                                  pos=pos,\n",
        "                                  top_percent=0.33)\n",
        "\n",
        "    # 4. get the 10-highest scored candidates as keyphrases\n",
        "    keyphrases = extractor.get_n_best(n=int(no_kw))\n",
        "\n",
        "\n",
        "    kw = []\n",
        "    weight = []\n",
        "\n",
        "    for i in range(len(keyphrases)):\n",
        "        a = keyphrases[i][0]\n",
        "        kw.append(a.replace('=', ' ').strip())\n",
        "        weight.append(keyphrases[i][1])\n",
        "\n",
        "    df = pd.DataFrame()    \n",
        "    df['Kewrord'] = kw\n",
        "    df['Weight'] = weight\n",
        "    df = df.sort_values(by ='Weight', ascending = False)\n",
        "    df = df.head(int(no_kw))       \n",
        "    df = df.reset_index(drop = True)\n",
        "    \n",
        "    return df"
      ],
      "execution_count": null,
      "outputs": []
    },
    {
      "cell_type": "code",
      "metadata": {
        "colab": {
          "base_uri": "https://localhost:8080/",
          "height": 323
        },
        "id": "dK31jN9MYLDe",
        "outputId": "f8e7a1fd-11ba-4fdc-9b28-93fe5a09f8a9"
      },
      "source": [
        "%time textrank(wikicontent, 7)"
      ],
      "execution_count": null,
      "outputs": [
        {
          "output_type": "stream",
          "text": [
            "WARNING:root:Candidates are generated using 0.33-top\n"
          ],
          "name": "stderr"
        },
        {
          "output_type": "stream",
          "text": [
            "CPU times: user 3.24 s, sys: 296 ms, total: 3.54 s\n",
            "Wall time: 3.56 s\n"
          ],
          "name": "stdout"
        },
        {
          "output_type": "execute_result",
          "data": {
            "text/html": [
              "<div>\n",
              "<style scoped>\n",
              "    .dataframe tbody tr th:only-of-type {\n",
              "        vertical-align: middle;\n",
              "    }\n",
              "\n",
              "    .dataframe tbody tr th {\n",
              "        vertical-align: top;\n",
              "    }\n",
              "\n",
              "    .dataframe thead th {\n",
              "        text-align: right;\n",
              "    }\n",
              "</style>\n",
              "<table border=\"1\" class=\"dataframe\">\n",
              "  <thead>\n",
              "    <tr style=\"text-align: right;\">\n",
              "      <th></th>\n",
              "      <th>Kewrord</th>\n",
              "      <th>Weight</th>\n",
              "    </tr>\n",
              "  </thead>\n",
              "  <tbody>\n",
              "    <tr>\n",
              "      <th>0</th>\n",
              "      <td>secret usaf project blue book special report no .</td>\n",
              "      <td>0.018755</td>\n",
              "    </tr>\n",
              "    <tr>\n",
              "      <th>1</th>\n",
              "      <td>official government ufo - investigation agency .</td>\n",
              "      <td>0.018352</td>\n",
              "    </tr>\n",
              "    <tr>\n",
              "      <th>2</th>\n",
              "      <td>official air force ufo investigations .</td>\n",
              "      <td>0.017834</td>\n",
              "    </tr>\n",
              "    <tr>\n",
              "      <th>3</th>\n",
              "      <td>- public u.s. government ufo investigations</td>\n",
              "      <td>0.017402</td>\n",
              "    </tr>\n",
              "    <tr>\n",
              "      <th>4</th>\n",
              "      <td>project blue book project head edward j. ruppelt</td>\n",
              "      <td>0.016779</td>\n",
              "    </tr>\n",
              "    <tr>\n",
              "      <th>5</th>\n",
              "      <td>united states</td>\n",
              "      <td>0.015836</td>\n",
              "    </tr>\n",
              "    <tr>\n",
              "      <th>6</th>\n",
              "      <td>usaf project blue book cases .</td>\n",
              "      <td>0.014768</td>\n",
              "    </tr>\n",
              "  </tbody>\n",
              "</table>\n",
              "</div>"
            ],
            "text/plain": [
              "                                             Kewrord    Weight\n",
              "0  secret usaf project blue book special report no .  0.018755\n",
              "1   official government ufo - investigation agency .  0.018352\n",
              "2            official air force ufo investigations .  0.017834\n",
              "3        - public u.s. government ufo investigations  0.017402\n",
              "4   project blue book project head edward j. ruppelt  0.016779\n",
              "5                                      united states  0.015836\n",
              "6                     usaf project blue book cases .  0.014768"
            ]
          },
          "metadata": {
            "tags": []
          },
          "execution_count": 5
        }
      ]
    },
    {
      "cell_type": "markdown",
      "metadata": {
        "id": "yqo_9R0G4Ub2"
      },
      "source": [
        "### PKE: SingleRank\n",
        "\n",
        "https://boudinfl.github.io/pke/build/html/unsupervised.html#graph-based-models"
      ]
    },
    {
      "cell_type": "code",
      "metadata": {
        "id": "5yCSG_S0h-Yb"
      },
      "source": [
        "def singlerank(raw_text, no_kw):    \n",
        "    \n",
        "    import pke\n",
        "\n",
        "    # define the set of valid Part-of-Speeches\n",
        "    pos = {'NOUN', 'PROPN', 'ADJ'}\n",
        "\n",
        "    # 1. create a SingleRank extractor.\n",
        "    extractor = pke.unsupervised.SingleRank()\n",
        "\n",
        "    # 2. load the content of the document.\n",
        "    extractor.load_document(input=raw_text,\n",
        "                            language='en',\n",
        "                            normalization=None)\n",
        "\n",
        "    # 3. select the longest sequences of nouns and adjectives as candidates.\n",
        "    extractor.candidate_selection(pos=pos)\n",
        "\n",
        "    # 4. weight the candidates using the sum of their word's scores that are\n",
        "    extractor.candidate_weighting(window=100,pos=pos)\n",
        "\n",
        "    # 4. get the 10-highest scored candidates as keyphrases\n",
        "    keyphrases = extractor.get_n_best(n=int(no_kw))\n",
        "\n",
        "\n",
        "    kw = []\n",
        "    weight = []\n",
        "\n",
        "    for i in range(len(keyphrases)):\n",
        "        a = keyphrases[i][0]\n",
        "        kw.append(a.replace('=', ' ').strip())\n",
        "        weight.append(keyphrases[i][1])\n",
        "\n",
        "    df = pd.DataFrame()    \n",
        "    df['Kewrord'] = kw\n",
        "    df['Weight'] = weight\n",
        "    df = df.sort_values(by ='Weight', ascending = False)\n",
        "    df = df.head(int(no_kw))       \n",
        "    df = df.reset_index(drop = True)\n",
        "    \n",
        "    return df"
      ],
      "execution_count": null,
      "outputs": []
    },
    {
      "cell_type": "code",
      "metadata": {
        "colab": {
          "base_uri": "https://localhost:8080/",
          "height": 305
        },
        "id": "8q-AzzUJj_s1",
        "outputId": "388daa84-a743-4381-ae2f-86a9c8926b76"
      },
      "source": [
        "%time singlerank(wikicontent, 7)"
      ],
      "execution_count": null,
      "outputs": [
        {
          "output_type": "stream",
          "text": [
            "CPU times: user 2.67 s, sys: 83.7 ms, total: 2.75 s\n",
            "Wall time: 2.76 s\n"
          ],
          "name": "stdout"
        },
        {
          "output_type": "execute_result",
          "data": {
            "text/html": [
              "<div>\n",
              "<style scoped>\n",
              "    .dataframe tbody tr th:only-of-type {\n",
              "        vertical-align: middle;\n",
              "    }\n",
              "\n",
              "    .dataframe tbody tr th {\n",
              "        vertical-align: top;\n",
              "    }\n",
              "\n",
              "    .dataframe thead th {\n",
              "        text-align: right;\n",
              "    }\n",
              "</style>\n",
              "<table border=\"1\" class=\"dataframe\">\n",
              "  <thead>\n",
              "    <tr style=\"text-align: right;\">\n",
              "      <th></th>\n",
              "      <th>Kewrord</th>\n",
              "      <th>Weight</th>\n",
              "    </tr>\n",
              "  </thead>\n",
              "  <tbody>\n",
              "    <tr>\n",
              "      <th>0</th>\n",
              "      <td>non - public u.s. government ufo investigations</td>\n",
              "      <td>0.036946</td>\n",
              "    </tr>\n",
              "    <tr>\n",
              "      <th>1</th>\n",
              "      <td>official air force ufo investigations</td>\n",
              "      <td>0.035122</td>\n",
              "    </tr>\n",
              "    <tr>\n",
              "      <th>2</th>\n",
              "      <td>secret usaf project blue book special report no .</td>\n",
              "      <td>0.033837</td>\n",
              "    </tr>\n",
              "    <tr>\n",
              "      <th>3</th>\n",
              "      <td>other ufo phenomena</td>\n",
              "      <td>0.030415</td>\n",
              "    </tr>\n",
              "    <tr>\n",
              "      <th>4</th>\n",
              "      <td>project blue book project head edward j. ruppelt</td>\n",
              "      <td>0.030004</td>\n",
              "    </tr>\n",
              "    <tr>\n",
              "      <th>5</th>\n",
              "      <td>pilot ufo sightings</td>\n",
              "      <td>0.028226</td>\n",
              "    </tr>\n",
              "    <tr>\n",
              "      <th>6</th>\n",
              "      <td>cabinet rs/33.alleged ufo sightings</td>\n",
              "      <td>0.027427</td>\n",
              "    </tr>\n",
              "  </tbody>\n",
              "</table>\n",
              "</div>"
            ],
            "text/plain": [
              "                                             Kewrord    Weight\n",
              "0    non - public u.s. government ufo investigations  0.036946\n",
              "1              official air force ufo investigations  0.035122\n",
              "2  secret usaf project blue book special report no .  0.033837\n",
              "3                                other ufo phenomena  0.030415\n",
              "4   project blue book project head edward j. ruppelt  0.030004\n",
              "5                                pilot ufo sightings  0.028226\n",
              "6                cabinet rs/33.alleged ufo sightings  0.027427"
            ]
          },
          "metadata": {
            "tags": []
          },
          "execution_count": 7
        }
      ]
    },
    {
      "cell_type": "markdown",
      "metadata": {
        "id": "vnNtlcku4Wvb"
      },
      "source": [
        "### PKE: TopicRank\n",
        "\n",
        "https://boudinfl.github.io/pke/build/html/unsupervised.html#graph-based-models"
      ]
    },
    {
      "cell_type": "code",
      "metadata": {
        "id": "gv2WpqTMkB_1"
      },
      "source": [
        "def topicrank(raw_text, no_kw):    \n",
        "    \n",
        "    import pke\n",
        "    import string\n",
        "    from nltk.corpus import stopwords\n",
        "\n",
        "    # 1. create a TopicRank extractor.\n",
        "    extractor = pke.unsupervised.TopicRank()\n",
        "\n",
        "    # 2. load the content of the document.\n",
        "    extractor.load_document(input=raw_text)\n",
        "\n",
        "    # 3. select the longest sequences of nouns and adjectives, that do\n",
        "    #    not contain punctuation marks or stopwords as candidates.\n",
        "    pos = {'NOUN', 'PROPN', 'ADJ'}\n",
        "    stoplist = list(string.punctuation)\n",
        "    stoplist += ['-lrb-', '-rrb-', '-lcb-', '-rcb-', '-lsb-', '-rsb-']\n",
        "    stoplist += stopwords.words('english')\n",
        "    extractor.candidate_selection(pos=pos, stoplist=stoplist)\n",
        "\n",
        "    # 4. build topics by grouping candidates with HAC (average linkage,\n",
        "    #    threshold of 1/4 of shared stems). Weight the topics using random\n",
        "    #    walk, and select the first occuring candidate from each topic.\n",
        "    extractor.candidate_weighting(threshold=0.74, method='average')\n",
        "\n",
        "    # 5. get the highest scored candidates as keyphrases\n",
        "    keyphrases = extractor.get_n_best(n=int(no_kw))\n",
        "\n",
        "\n",
        "    kw = []\n",
        "    weight = []\n",
        "\n",
        "    for i in range(len(keyphrases)):\n",
        "        a = keyphrases[i][0]\n",
        "        kw.append(a.replace('=', ' ').strip())\n",
        "        weight.append(keyphrases[i][1])\n",
        "\n",
        "    df = pd.DataFrame()    \n",
        "    df['Kewrord'] = kw\n",
        "    df['Weight'] = weight\n",
        "    df = df.sort_values(by ='Weight', ascending = False)\n",
        "    df = df.head(int(no_kw))       \n",
        "    df = df.reset_index(drop = True)\n",
        "    \n",
        "    return df"
      ],
      "execution_count": null,
      "outputs": []
    },
    {
      "cell_type": "code",
      "metadata": {
        "colab": {
          "base_uri": "https://localhost:8080/",
          "height": 305
        },
        "id": "HIC42nIZkQBV",
        "outputId": "c105a66c-855c-4983-be9b-c73e9974dddc"
      },
      "source": [
        "%time topicrank(wikicontent, 7)"
      ],
      "execution_count": null,
      "outputs": [
        {
          "output_type": "stream",
          "text": [
            "CPU times: user 18.8 s, sys: 267 ms, total: 19.1 s\n",
            "Wall time: 19.1 s\n"
          ],
          "name": "stdout"
        },
        {
          "output_type": "execute_result",
          "data": {
            "text/html": [
              "<div>\n",
              "<style scoped>\n",
              "    .dataframe tbody tr th:only-of-type {\n",
              "        vertical-align: middle;\n",
              "    }\n",
              "\n",
              "    .dataframe tbody tr th {\n",
              "        vertical-align: top;\n",
              "    }\n",
              "\n",
              "    .dataframe thead th {\n",
              "        text-align: right;\n",
              "    }\n",
              "</style>\n",
              "<table border=\"1\" class=\"dataframe\">\n",
              "  <thead>\n",
              "    <tr style=\"text-align: right;\">\n",
              "      <th></th>\n",
              "      <th>Kewrord</th>\n",
              "      <th>Weight</th>\n",
              "    </tr>\n",
              "  </thead>\n",
              "  <tbody>\n",
              "    <tr>\n",
              "      <th>0</th>\n",
              "      <td>ufo</td>\n",
              "      <td>0.026728</td>\n",
              "    </tr>\n",
              "    <tr>\n",
              "      <th>1</th>\n",
              "      <td>ufo reports</td>\n",
              "      <td>0.016138</td>\n",
              "    </tr>\n",
              "    <tr>\n",
              "      <th>2</th>\n",
              "      <td>mass sightings</td>\n",
              "      <td>0.013505</td>\n",
              "    </tr>\n",
              "    <tr>\n",
              "      <th>3</th>\n",
              "      <td>conventional objects</td>\n",
              "      <td>0.011398</td>\n",
              "    </tr>\n",
              "    <tr>\n",
              "      <th>4</th>\n",
              "      <td>investigations</td>\n",
              "      <td>0.010903</td>\n",
              "    </tr>\n",
              "    <tr>\n",
              "      <th>5</th>\n",
              "      <td>project blue book</td>\n",
              "      <td>0.008147</td>\n",
              "    </tr>\n",
              "    <tr>\n",
              "      <th>6</th>\n",
              "      <td>royal air force</td>\n",
              "      <td>0.007616</td>\n",
              "    </tr>\n",
              "  </tbody>\n",
              "</table>\n",
              "</div>"
            ],
            "text/plain": [
              "                Kewrord    Weight\n",
              "0                   ufo  0.026728\n",
              "1           ufo reports  0.016138\n",
              "2        mass sightings  0.013505\n",
              "3  conventional objects  0.011398\n",
              "4        investigations  0.010903\n",
              "5     project blue book  0.008147\n",
              "6       royal air force  0.007616"
            ]
          },
          "metadata": {
            "tags": []
          },
          "execution_count": 9
        }
      ]
    },
    {
      "cell_type": "markdown",
      "metadata": {
        "id": "dizImMpL4bqp"
      },
      "source": [
        "### PKE: PositionRank\n",
        "\n",
        "https://boudinfl.github.io/pke/build/html/unsupervised.html#graph-based-models"
      ]
    },
    {
      "cell_type": "code",
      "metadata": {
        "id": "r3yiI_ClkTSk"
      },
      "source": [
        "def positionrank(raw_text, no_kw):    \n",
        "    \n",
        "    import pke\n",
        "\n",
        "    # define the valid Part-of-Speeches to occur in the graph\n",
        "    pos = {'NOUN', 'PROPN', 'ADJ'}\n",
        "\n",
        "    # define the grammar for selecting the keyphrase candidates\n",
        "    grammar = \"NP: {<ADJ>*<NOUN|PROPN>+}\"\n",
        "\n",
        "    # 1. create a PositionRank extractor.\n",
        "    extractor = pke.unsupervised.PositionRank()\n",
        "\n",
        "    # 2. load the content of the document.\n",
        "    extractor.load_document(input=raw_text,\n",
        "                            language='en',\n",
        "                            normalization=None)\n",
        "\n",
        "    # 3. select the noun phrases up to 3 words as keyphrase candidates.\n",
        "    extractor.candidate_selection(grammar=grammar,\n",
        "                                  maximum_word_number=3)\n",
        "\n",
        "    # 4. weight the candidates using the sum of their word's scores that are\n",
        "    #    computed using random walk biaised with the position of the words\n",
        "    #    in the document. In the graph, nodes are words (nouns and\n",
        "    #    adjectives only) that are connected if they occur in a window of\n",
        "    #    10 words.\n",
        "    extractor.candidate_weighting(window=100,\n",
        "                                  pos=pos)\n",
        "\n",
        "    # 4. get the 10-highest scored candidates as keyphrases\n",
        "    keyphrases = extractor.get_n_best(n=int(no_kw))\n",
        "\n",
        "\n",
        "    kw = []\n",
        "    weight = []\n",
        "\n",
        "    for i in range(len(keyphrases)):\n",
        "        a = keyphrases[i][0]\n",
        "        kw.append(a.replace('=', ' ').strip())\n",
        "        weight.append(keyphrases[i][1])\n",
        "\n",
        "    df = pd.DataFrame()    \n",
        "    df['Kewrord'] = kw\n",
        "    df['Weight'] = weight\n",
        "    df = df.sort_values(by ='Weight', ascending = False)\n",
        "    df = df.head(int(no_kw))       \n",
        "    df = df.reset_index(drop = True)\n",
        "    \n",
        "    return df"
      ],
      "execution_count": null,
      "outputs": []
    },
    {
      "cell_type": "code",
      "metadata": {
        "colab": {
          "base_uri": "https://localhost:8080/",
          "height": 305
        },
        "id": "WztbMesCkZmI",
        "outputId": "5299a07b-7f80-41a3-c4fb-42aca44ce5b8"
      },
      "source": [
        "%time positionrank(wikicontent, 7)"
      ],
      "execution_count": null,
      "outputs": [
        {
          "output_type": "stream",
          "text": [
            "CPU times: user 4.61 s, sys: 131 ms, total: 4.74 s\n",
            "Wall time: 4.75 s\n"
          ],
          "name": "stdout"
        },
        {
          "output_type": "execute_result",
          "data": {
            "text/html": [
              "<div>\n",
              "<style scoped>\n",
              "    .dataframe tbody tr th:only-of-type {\n",
              "        vertical-align: middle;\n",
              "    }\n",
              "\n",
              "    .dataframe tbody tr th {\n",
              "        vertical-align: top;\n",
              "    }\n",
              "\n",
              "    .dataframe thead th {\n",
              "        text-align: right;\n",
              "    }\n",
              "</style>\n",
              "<table border=\"1\" class=\"dataframe\">\n",
              "  <thead>\n",
              "    <tr style=\"text-align: right;\">\n",
              "      <th></th>\n",
              "      <th>Kewrord</th>\n",
              "      <th>Weight</th>\n",
              "    </tr>\n",
              "  </thead>\n",
              "  <tbody>\n",
              "    <tr>\n",
              "      <th>0</th>\n",
              "      <td>unidentified flying object</td>\n",
              "      <td>0.055587</td>\n",
              "    </tr>\n",
              "    <tr>\n",
              "      <th>1</th>\n",
              "      <td>unidentified flying objects</td>\n",
              "      <td>0.049809</td>\n",
              "    </tr>\n",
              "    <tr>\n",
              "      <th>2</th>\n",
              "      <td>other ufo phenomena</td>\n",
              "      <td>0.042286</td>\n",
              "    </tr>\n",
              "    <tr>\n",
              "      <th>3</th>\n",
              "      <td>unidentified aerial objects</td>\n",
              "      <td>0.041767</td>\n",
              "    </tr>\n",
              "    <tr>\n",
              "      <th>4</th>\n",
              "      <td>unidentified aerial phenomena</td>\n",
              "      <td>0.040517</td>\n",
              "    </tr>\n",
              "    <tr>\n",
              "      <th>5</th>\n",
              "      <td>unidentified aerial phenomenon</td>\n",
              "      <td>0.039209</td>\n",
              "    </tr>\n",
              "    <tr>\n",
              "      <th>6</th>\n",
              "      <td>pilot ufo sightings</td>\n",
              "      <td>0.037372</td>\n",
              "    </tr>\n",
              "  </tbody>\n",
              "</table>\n",
              "</div>"
            ],
            "text/plain": [
              "                          Kewrord    Weight\n",
              "0      unidentified flying object  0.055587\n",
              "1     unidentified flying objects  0.049809\n",
              "2             other ufo phenomena  0.042286\n",
              "3     unidentified aerial objects  0.041767\n",
              "4   unidentified aerial phenomena  0.040517\n",
              "5  unidentified aerial phenomenon  0.039209\n",
              "6             pilot ufo sightings  0.037372"
            ]
          },
          "metadata": {
            "tags": []
          },
          "execution_count": 11
        }
      ]
    },
    {
      "cell_type": "markdown",
      "metadata": {
        "id": "IZYOGjtx4hfp"
      },
      "source": [
        "### PKE: MultipartiteRank\n",
        "\n",
        "https://boudinfl.github.io/pke/build/html/unsupervised.html#graph-based-*models*"
      ]
    },
    {
      "cell_type": "code",
      "metadata": {
        "id": "-JtT3vY4kfBU"
      },
      "source": [
        "def multipartiterank(raw_text, no_kw):    \n",
        "    \n",
        "    import pke\n",
        "    import string\n",
        "    from nltk.corpus import stopwords\n",
        "\n",
        "    # 1. create a MultipartiteRank extractor.\n",
        "    extractor = pke.unsupervised.MultipartiteRank()\n",
        "\n",
        "    # 2. load the content of the document.\n",
        "    extractor.load_document(input=raw_text)\n",
        "\n",
        "    # 3. select the longest sequences of nouns and adjectives, that do\n",
        "    #    not contain punctuation marks or stopwords as candidates.\n",
        "    pos = {'NOUN', 'PROPN', 'ADJ'}\n",
        "    stoplist = list(string.punctuation)\n",
        "    stoplist += ['-lrb-', '-rrb-', '-lcb-', '-rcb-', '-lsb-', '-rsb-']\n",
        "    stoplist += stopwords.words('english')\n",
        "    extractor.candidate_selection(pos=pos, stoplist=stoplist)\n",
        "\n",
        "    # 4. build the Multipartite graph and rank candidates using random walk,\n",
        "    #    alpha controls the weight adjustment mechanism, see TopicRank for\n",
        "    #    threshold/method parameters.\n",
        "    extractor.candidate_weighting(alpha=1.1,\n",
        "                                  threshold=0.74,\n",
        "                                  method='average')\n",
        "\n",
        "    # 4. get the 10-highest scored candidates as keyphrases\n",
        "    keyphrases = extractor.get_n_best(n=int(no_kw))\n",
        "\n",
        "\n",
        "    kw = []\n",
        "    weight = []\n",
        "\n",
        "    for i in range(len(keyphrases)):\n",
        "        a = keyphrases[i][0]\n",
        "        kw.append(a.replace('=', ' ').strip())\n",
        "        weight.append(keyphrases[i][1])\n",
        "\n",
        "    df = pd.DataFrame()    \n",
        "    df['Kewrord'] = kw\n",
        "    df['Weight'] = weight\n",
        "    df = df.sort_values(by ='Weight', ascending = False)\n",
        "    df = df.head(int(no_kw))       \n",
        "    df = df.reset_index(drop = True)\n",
        "    \n",
        "    return df"
      ],
      "execution_count": null,
      "outputs": []
    },
    {
      "cell_type": "code",
      "metadata": {
        "colab": {
          "base_uri": "https://localhost:8080/",
          "height": 305
        },
        "id": "SJE8lhesktoV",
        "outputId": "7d2b5adf-2c86-4673-e90f-db79fec86c27"
      },
      "source": [
        "%time multipartiterank(wikicontent, 7)"
      ],
      "execution_count": null,
      "outputs": [
        {
          "output_type": "stream",
          "text": [
            "CPU times: user 36.9 s, sys: 1.91 s, total: 38.8 s\n",
            "Wall time: 38.8 s\n"
          ],
          "name": "stdout"
        },
        {
          "output_type": "execute_result",
          "data": {
            "text/html": [
              "<div>\n",
              "<style scoped>\n",
              "    .dataframe tbody tr th:only-of-type {\n",
              "        vertical-align: middle;\n",
              "    }\n",
              "\n",
              "    .dataframe tbody tr th {\n",
              "        vertical-align: top;\n",
              "    }\n",
              "\n",
              "    .dataframe thead th {\n",
              "        text-align: right;\n",
              "    }\n",
              "</style>\n",
              "<table border=\"1\" class=\"dataframe\">\n",
              "  <thead>\n",
              "    <tr style=\"text-align: right;\">\n",
              "      <th></th>\n",
              "      <th>Kewrord</th>\n",
              "      <th>Weight</th>\n",
              "    </tr>\n",
              "  </thead>\n",
              "  <tbody>\n",
              "    <tr>\n",
              "      <th>0</th>\n",
              "      <td>ufo</td>\n",
              "      <td>0.019035</td>\n",
              "    </tr>\n",
              "    <tr>\n",
              "      <th>1</th>\n",
              "      <td>ufo reports</td>\n",
              "      <td>0.011733</td>\n",
              "    </tr>\n",
              "    <tr>\n",
              "      <th>2</th>\n",
              "      <td>mass sightings</td>\n",
              "      <td>0.010112</td>\n",
              "    </tr>\n",
              "    <tr>\n",
              "      <th>3</th>\n",
              "      <td>conventional objects</td>\n",
              "      <td>0.010028</td>\n",
              "    </tr>\n",
              "    <tr>\n",
              "      <th>4</th>\n",
              "      <td>investigations</td>\n",
              "      <td>0.007846</td>\n",
              "    </tr>\n",
              "    <tr>\n",
              "      <th>5</th>\n",
              "      <td>phenomena</td>\n",
              "      <td>0.006725</td>\n",
              "    </tr>\n",
              "    <tr>\n",
              "      <th>6</th>\n",
              "      <td>project blue book</td>\n",
              "      <td>0.006489</td>\n",
              "    </tr>\n",
              "  </tbody>\n",
              "</table>\n",
              "</div>"
            ],
            "text/plain": [
              "                Kewrord    Weight\n",
              "0                   ufo  0.019035\n",
              "1           ufo reports  0.011733\n",
              "2        mass sightings  0.010112\n",
              "3  conventional objects  0.010028\n",
              "4        investigations  0.007846\n",
              "5             phenomena  0.006725\n",
              "6     project blue book  0.006489"
            ]
          },
          "metadata": {
            "tags": []
          },
          "execution_count": 13
        }
      ]
    },
    {
      "cell_type": "markdown",
      "metadata": {
        "id": "BUd4hc7H4unv"
      },
      "source": [
        "### NLTK Rake\n",
        "\n",
        "https://pypi.org/project/rake-nltk/"
      ]
    },
    {
      "cell_type": "code",
      "metadata": {
        "id": "4CI0SApCkxrd"
      },
      "source": [
        "def rake(raw_text, no_kw, min_len, max_len):\n",
        "    \n",
        "    from rake_nltk import Metric, Rake\n",
        "    import re\n",
        "    from nltk.corpus import stopwords\n",
        "\n",
        "    # To use it with a specific language supported by nltk.\n",
        "    r = Rake(language=None)\n",
        "\n",
        "    # If you want to provide your own set of stop words and punctuations to\n",
        "    r = Rake(\n",
        "        stopwords=stopwords.words('english'),\n",
        "        punctuations=None\n",
        "    )\n",
        "\n",
        "    # If you want to control the metric for ranking. Paper uses d(w)/f(w) as the\n",
        "    # metric. You can use this API with the following metrics:\n",
        "    # 1. d(w)/f(w) (Default metric) Ratio of degree of word to its frequency.\n",
        "    # 2. d(w) Degree of word only.\n",
        "    # 3. f(w) Frequency of word only.\n",
        "\n",
        "    r = Rake(ranking_metric=Metric.DEGREE_TO_FREQUENCY_RATIO)\n",
        "    r = Rake(ranking_metric=Metric.WORD_DEGREE)\n",
        "    r = Rake(ranking_metric=Metric.WORD_FREQUENCY)\n",
        "\n",
        "    # If you want to control the max or min words in a phrase, for it to be\n",
        "    # considered for ranking you can initialize a Rake instance as below:\n",
        "\n",
        "    r = Rake(min_length=int(min_len), max_length=int(max_len))\n",
        "\n",
        "    r.extract_keywords_from_text(raw_text)\n",
        "    keyphrases = r.get_ranked_phrases_with_scores()[:int(no_kw)]\n",
        "\n",
        "    kw = []\n",
        "    weight = []\n",
        "\n",
        "    for i in range(len(keyphrases)):\n",
        "        weight.append(keyphrases[i][0])\n",
        "        kw.append(re.sub(r'\\W+', ' ', keyphrases[i][1]))\n",
        "\n",
        "    df = pd.DataFrame()    \n",
        "    df['Kewrord'] = kw\n",
        "    df['Weight'] = weight\n",
        "    df = df.sort_values(by ='Weight', ascending = False)\n",
        "    df = df.head(int(no_kw))       \n",
        "    df = df.reset_index(drop = True)\n",
        "\n",
        "    return df"
      ],
      "execution_count": null,
      "outputs": []
    },
    {
      "cell_type": "code",
      "metadata": {
        "colab": {
          "base_uri": "https://localhost:8080/",
          "height": 268
        },
        "id": "HA1FXE9C5Ift",
        "outputId": "a4eea30f-a926-4f4f-8bfb-e3f254900a56"
      },
      "source": [
        "rake(wikicontent, 7, 1, 2)"
      ],
      "execution_count": null,
      "outputs": [
        {
          "output_type": "execute_result",
          "data": {
            "text/html": [
              "<div>\n",
              "<style scoped>\n",
              "    .dataframe tbody tr th:only-of-type {\n",
              "        vertical-align: middle;\n",
              "    }\n",
              "\n",
              "    .dataframe tbody tr th {\n",
              "        vertical-align: top;\n",
              "    }\n",
              "\n",
              "    .dataframe thead th {\n",
              "        text-align: right;\n",
              "    }\n",
              "</style>\n",
              "<table border=\"1\" class=\"dataframe\">\n",
              "  <thead>\n",
              "    <tr style=\"text-align: right;\">\n",
              "      <th></th>\n",
              "      <th>Kewrord</th>\n",
              "      <th>Weight</th>\n",
              "    </tr>\n",
              "  </thead>\n",
              "  <tbody>\n",
              "    <tr>\n",
              "      <th>0</th>\n",
              "      <td>especially</td>\n",
              "      <td>4.0</td>\n",
              "    </tr>\n",
              "    <tr>\n",
              "      <th>1</th>\n",
              "      <td>études spatiales</td>\n",
              "      <td>4.0</td>\n",
              "    </tr>\n",
              "    <tr>\n",
              "      <th>2</th>\n",
              "      <td>yves sillard</td>\n",
              "      <td>4.0</td>\n",
              "    </tr>\n",
              "    <tr>\n",
              "      <th>3</th>\n",
              "      <td>wore suits</td>\n",
              "      <td>4.0</td>\n",
              "    </tr>\n",
              "    <tr>\n",
              "      <th>4</th>\n",
              "      <td>without visible</td>\n",
              "      <td>4.0</td>\n",
              "    </tr>\n",
              "    <tr>\n",
              "      <th>5</th>\n",
              "      <td>white house</td>\n",
              "      <td>4.0</td>\n",
              "    </tr>\n",
              "    <tr>\n",
              "      <th>6</th>\n",
              "      <td>waterloo bridge</td>\n",
              "      <td>4.0</td>\n",
              "    </tr>\n",
              "  </tbody>\n",
              "</table>\n",
              "</div>"
            ],
            "text/plain": [
              "            Kewrord  Weight\n",
              "0        especially     4.0\n",
              "1  études spatiales     4.0\n",
              "2      yves sillard     4.0\n",
              "3        wore suits     4.0\n",
              "4   without visible     4.0\n",
              "5       white house     4.0\n",
              "6   waterloo bridge     4.0"
            ]
          },
          "metadata": {
            "tags": []
          },
          "execution_count": 15
        }
      ]
    },
    {
      "cell_type": "markdown",
      "metadata": {
        "id": "EZesAp_-5kkQ"
      },
      "source": [
        "### Yake\n",
        "\n",
        "https://github.com/LIAAD/yake"
      ]
    },
    {
      "cell_type": "code",
      "metadata": {
        "id": "W2-5YkW-5RvL"
      },
      "source": [
        "def yake(raw_text, no_kw, max_len):\n",
        "    \n",
        "    import yake\n",
        "\n",
        "    keyw =[]\n",
        "    weight = []\n",
        "\n",
        "    max_ngram_size = max_len\n",
        "    numOfKeywords = int(no_kw)\n",
        "\n",
        "    kw_extractor = yake.KeywordExtractor(n=max_ngram_size, top=numOfKeywords, features=None)\n",
        "    keywords = kw_extractor.extract_keywords(raw_text)\n",
        "\n",
        "    for kw in keywords:\n",
        "        keyw.append(kw[0])\n",
        "\n",
        "    for kw in keywords:\n",
        "        weight.append(kw[1])\n",
        "\n",
        "    df = pd.DataFrame()    \n",
        "    df['Kewrord'] = keyw\n",
        "    df['Weight'] = weight\n",
        "    df = df.sort_values(by ='Weight', ascending = False).reset_index(drop = True)\n",
        "    df = df.head(int(no_kw))\n",
        "    \n",
        "    return df"
      ],
      "execution_count": null,
      "outputs": []
    },
    {
      "cell_type": "code",
      "metadata": {
        "colab": {
          "base_uri": "https://localhost:8080/",
          "height": 268
        },
        "id": "rRNmsVkG5r9T",
        "outputId": "48023bf5-6751-4bf5-f2a2-757790271e52"
      },
      "source": [
        "yake(wikicontent, 7, 2)"
      ],
      "execution_count": null,
      "outputs": [
        {
          "output_type": "execute_result",
          "data": {
            "text/html": [
              "<div>\n",
              "<style scoped>\n",
              "    .dataframe tbody tr th:only-of-type {\n",
              "        vertical-align: middle;\n",
              "    }\n",
              "\n",
              "    .dataframe tbody tr th {\n",
              "        vertical-align: top;\n",
              "    }\n",
              "\n",
              "    .dataframe thead th {\n",
              "        text-align: right;\n",
              "    }\n",
              "</style>\n",
              "<table border=\"1\" class=\"dataframe\">\n",
              "  <thead>\n",
              "    <tr style=\"text-align: right;\">\n",
              "      <th></th>\n",
              "      <th>Kewrord</th>\n",
              "      <th>Weight</th>\n",
              "    </tr>\n",
              "  </thead>\n",
              "  <tbody>\n",
              "    <tr>\n",
              "      <th>0</th>\n",
              "      <td>Blue Book</td>\n",
              "      <td>0.001086</td>\n",
              "    </tr>\n",
              "    <tr>\n",
              "      <th>1</th>\n",
              "      <td>Project Blue</td>\n",
              "      <td>0.001084</td>\n",
              "    </tr>\n",
              "    <tr>\n",
              "      <th>2</th>\n",
              "      <td>Air Force</td>\n",
              "      <td>0.001027</td>\n",
              "    </tr>\n",
              "    <tr>\n",
              "      <th>3</th>\n",
              "      <td>UFOs</td>\n",
              "      <td>0.000990</td>\n",
              "    </tr>\n",
              "    <tr>\n",
              "      <th>4</th>\n",
              "      <td>UFO sightings</td>\n",
              "      <td>0.000875</td>\n",
              "    </tr>\n",
              "    <tr>\n",
              "      <th>5</th>\n",
              "      <td>UFO reports</td>\n",
              "      <td>0.000837</td>\n",
              "    </tr>\n",
              "    <tr>\n",
              "      <th>6</th>\n",
              "      <td>UFO</td>\n",
              "      <td>0.000616</td>\n",
              "    </tr>\n",
              "  </tbody>\n",
              "</table>\n",
              "</div>"
            ],
            "text/plain": [
              "         Kewrord    Weight\n",
              "0      Blue Book  0.001086\n",
              "1   Project Blue  0.001084\n",
              "2      Air Force  0.001027\n",
              "3           UFOs  0.000990\n",
              "4  UFO sightings  0.000875\n",
              "5    UFO reports  0.000837\n",
              "6            UFO  0.000616"
            ]
          },
          "metadata": {
            "tags": []
          },
          "execution_count": 17
        }
      ]
    }
  ]
}